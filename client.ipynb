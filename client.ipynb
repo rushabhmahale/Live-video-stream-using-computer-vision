{
 "cells": [
  {
   "cell_type": "code",
   "execution_count": null,
   "metadata": {},
   "outputs": [],
   "source": [
    "import cv2, socket, pickle, os"
   ]
  },
  {
   "cell_type": "code",
   "execution_count": null,
   "metadata": {},
   "outputs": [],
   "source": [
    "S = socket.socket(socket.AF_INET , socket.SOCK_DGRAM)\n",
    "S.setsockopt(socket.SOL_SOCKET, socket.SO_SNDBUF , 100000000)\n",
    "serverIP = \"192.168.0.105\"\n",
    "serverPORT = 1234"
   ]
  },
  {
   "cell_type": "code",
   "execution_count": null,
   "metadata": {},
   "outputs": [],
   "source": [
    "CAMERA = cv2.VideoCapture(0)\n",
    "while True:\n",
    "    ret, photo = CAMERA.read()\n",
    "    cv2.imshow('pic',photo)\n",
    "    ret, buffer = cv2.imencode(\".jpg\" , photo , [int(cv2.IMWRITE_JPEG_QUALITY),30])\n",
    "    x_as_bytes = pickle.dumps(buffer)\n",
    "    S.sendto(x_as_bytes,(serverIP, serverPORT))\n",
    "    if cv2.waitKey(10) == 13:\n",
    "        break\n",
    "  \n",
    "cv2.destroyAllWindows()\n",
    "CAMERA.release()"
   ]
  },
  {
   "cell_type": "code",
   "execution_count": null,
   "metadata": {},
   "outputs": [],
   "source": []
  },
  {
   "cell_type": "code",
   "execution_count": null,
   "metadata": {},
   "outputs": [],
   "source": []
  }
 ],
 "metadata": {
  "kernelspec": {
   "display_name": "Python 3",
   "language": "python",
   "name": "python3"
  },
  "language_info": {
   "codemirror_mode": {
    "name": "ipython",
    "version": 3
   },
   "file_extension": ".py",
   "mimetype": "text/x-python",
   "name": "python",
   "nbconvert_exporter": "python",
   "pygments_lexer": "ipython3",
   "version": "3.8.8"
  }
 },
 "nbformat": 4,
 "nbformat_minor": 4
}
