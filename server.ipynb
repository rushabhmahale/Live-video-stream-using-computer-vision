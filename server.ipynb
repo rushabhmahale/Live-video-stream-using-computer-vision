{
 "cells": [
  {
   "cell_type": "code",
   "execution_count": null,
   "metadata": {},
   "outputs": [],
   "source": [
    "import cv2 , socket , numpy , pickle"
   ]
  },
  {
   "cell_type": "code",
   "execution_count": null,
   "metadata": {},
   "outputs": [],
   "source": [
    "S = socket.socket(socket.AF_INET , socket.SOCK_DGRAM)\n",
    "IP = \"192.168.0.105\"\n",
    "PORT = 1234\n",
    "S.bind((IP,PORT))"
   ]
  },
  {
   "cell_type": "code",
   "execution_count": null,
   "metadata": {},
   "outputs": [],
   "source": [
    "while True:\n",
    "    y = S.recvfrom(100000000)\n",
    "    clientip = y[1][0]\n",
    "    data = y[0]\n",
    "    print(data)\n",
    "    data = pickle.loads(data)\n",
    "    print(type(data))\n",
    "    data = cv2.imdecode(data, cv2.IMREAD_COLOR)\n",
    "    cv2.imshow('pic', data)\n",
    "    if cv2.waitKey(10) == 13:\n",
    "        break\n",
    "cv2.destroyAllWindows()"
   ]
  },
  {
   "cell_type": "code",
   "execution_count": null,
   "metadata": {},
   "outputs": [],
   "source": []
  }
 ],
 "metadata": {
  "kernelspec": {
   "display_name": "Python 3",
   "language": "python",
   "name": "python3"
  },
  "language_info": {
   "codemirror_mode": {
    "name": "ipython",
    "version": 3
   },
   "file_extension": ".py",
   "mimetype": "text/x-python",
   "name": "python",
   "nbconvert_exporter": "python",
   "pygments_lexer": "ipython3",
   "version": "3.8.8"
  }
 },
 "nbformat": 4,
 "nbformat_minor": 4
}
